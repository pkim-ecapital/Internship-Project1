{
 "cells": [
  {
   "cell_type": "code",
   "execution_count": 2,
   "id": "6f858d90-5467-487b-b9e2-44d0638eddab",
   "metadata": {},
   "outputs": [],
   "source": [
    "#i wrote this on jupyterlab"
   ]
  },
  {
   "cell_type": "code",
   "execution_count": 3,
   "id": "060e6ce6-c3ec-492b-8e38-64eef775b35a",
   "metadata": {},
   "outputs": [],
   "source": [
    "#hi"
   ]
  },
  {
   "cell_type": "code",
   "execution_count": null,
   "id": "50275005-4303-4926-9f02-81d5deb02598",
   "metadata": {},
   "outputs": [],
   "source": [
    "#hello"
   ]
  }
 ],
 "metadata": {
  "kernelspec": {
   "display_name": "Python 3",
   "language": "python",
   "name": "python3"
  },
  "language_info": {
   "codemirror_mode": {
    "name": "ipython",
    "version": 3
   },
   "file_extension": ".py",
   "mimetype": "text/x-python",
   "name": "python",
   "nbconvert_exporter": "python",
   "pygments_lexer": "ipython3",
   "version": "3.9.1"
  }
 },
 "nbformat": 4,
 "nbformat_minor": 5
}
